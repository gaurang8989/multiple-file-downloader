{
 "cells": [
  {
   "cell_type": "code",
   "execution_count": null,
   "id": "3d001648",
   "metadata": {},
   "outputs": [],
   "source": [
    "# !pip install pandas\n",
    "# !pip install numpy\n",
    "# !pip install urllib\n",
    "# !pip install BeautifulSoup\n",
    "# !pip install requests"
   ]
  },
  {
   "cell_type": "code",
   "execution_count": null,
   "id": "aa1b19e4",
   "metadata": {},
   "outputs": [],
   "source": [
    "import pandas as pd\n",
    "import json\n",
    "import re\n",
    "import requests\n",
    "\n",
    "from urllib import request\n",
    "# from bs4 import BeautifulSoup"
   ]
  },
  {
   "cell_type": "code",
   "execution_count": null,
   "id": "084bac19",
   "metadata": {},
   "outputs": [],
   "source": [
    "def get_links():\n",
    "\n",
    "    # Opening JSON file\n",
    "    f = open(r\"C:\\Users\\dell\\Desktop\\gaurang_proj_apis_scripts\\data\\module_67.txt\")\n",
    "\n",
    "    # returns JSON object as \n",
    "    # a dictionary\n",
    "    # data_file = json.load(f)\n",
    "    # data_len = len(data_file['data']['data'])\n",
    "\n",
    "\n",
    "    # video_links = [URL + link['href'] for link in total_links if link['href'].endswith('mp4')]\n",
    "\n",
    "    # with open (\"My path to file/response.json\") as file:\n",
    "    # for line in data_file:\n",
    "    # #     print(data_file['data'])\n",
    "    #     for dt in data_file['data']['data']:\n",
    "    #         urls = re.findall('[\\\\s]store-data.volio.*', str(dt))\n",
    "    # #         print(type(dt))\n",
    "    # #         print(type(str(dt)))\n",
    "    #         print(urls)\n",
    "    #         print('----------------------------------------------')\n",
    "    \n",
    "    temp_ls = []\n",
    "    for line in f:\n",
    "        urls = re.findall(r\"store-data.volio.vn.*.\\\"\", line)\n",
    "        if(urls!=[]):\n",
    "            only_url = urls[0].strip('\"')\n",
    "            temp_ls.append(only_url)\n",
    "\n",
    "    print(len(temp_ls))\n",
    "#     print(temp_ls)\n",
    "    # print(temp_ls[0][0])\n",
    "    # print(data_file['data']['data'][0]['name'])\n",
    "    # # Iterating through the json\n",
    "    # # list\n",
    "    # for i in (0, data_len):\n",
    "    #     print(i)\n",
    "    #     print(data_file['data']['data'][i]['name'])\n",
    "    #     print(\"\\n\")\n",
    "\n",
    "\n",
    "    return temp_ls\n",
    "    # Closing file\n",
    "    f.close()"
   ]
  },
  {
   "cell_type": "code",
   "execution_count": null,
   "id": "f758a225",
   "metadata": {},
   "outputs": [],
   "source": [
    "def download_files(extracted_video_links):\n",
    "\n",
    "    for link in extracted_video_links:\n",
    "        print(type(link),link)\n",
    "        \n",
    "\n",
    "        # iterate through all links in video_links and download them one by one\n",
    "\n",
    "        # obtain the filename by splitting the URL \n",
    "        name_of_file = link.split('/')[-1]\n",
    "\n",
    "        print( \"Downloading file:%s\"%name_of_file)\n",
    "\n",
    "        # create a response object\n",
    "        response = requests.get(\"https://\"+link, stream = True)\n",
    "        print(response)\n",
    "\n",
    "        # download started\n",
    "        with open(name_of_file, 'wb') as f:\n",
    "            for chunk in response.iter_content(chunk_size = 1024*1024):\n",
    "                if chunk:\n",
    "                    f.write(chunk)\n",
    "\n",
    "        print( \"%s downloaded!\\n\"%name_of_file )\n",
    "\n",
    "    print (\"All Files downloaded!\")\n",
    "    return"
   ]
  },
  {
   "cell_type": "code",
   "execution_count": null,
   "id": "1f347d2b",
   "metadata": {},
   "outputs": [],
   "source": [
    "# download_urls_media(temp_ls)"
   ]
  },
  {
   "cell_type": "code",
   "execution_count": null,
   "id": "40891461",
   "metadata": {},
   "outputs": [],
   "source": [
    "if __name__ == \"__main__\":\n",
    "\n",
    "    # extracting all video links\n",
    "    extracted_links = get_links()\n",
    "\n",
    "    # download all videos using their URLs\n",
    "    download_files(extracted_links)"
   ]
  },
  {
   "cell_type": "code",
   "execution_count": null,
   "id": "2a78d144",
   "metadata": {},
   "outputs": [],
   "source": []
  },
  {
   "cell_type": "code",
   "execution_count": null,
   "id": "d3216b9f",
   "metadata": {},
   "outputs": [],
   "source": []
  }
 ],
 "metadata": {
  "kernelspec": {
   "display_name": "Python 3 (ipykernel)",
   "language": "python",
   "name": "python3"
  },
  "language_info": {
   "codemirror_mode": {
    "name": "ipython",
    "version": 3
   },
   "file_extension": ".py",
   "mimetype": "text/x-python",
   "name": "python",
   "nbconvert_exporter": "python",
   "pygments_lexer": "ipython3",
   "version": "3.11.3"
  }
 },
 "nbformat": 4,
 "nbformat_minor": 5
}
